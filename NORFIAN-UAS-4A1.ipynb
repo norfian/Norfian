{
 "cells": [
  {
   "cell_type": "code",
   "execution_count": 1,
   "metadata": {},
   "outputs": [
    {
     "name": "stdout",
     "output_type": "stream",
     "text": [
      "Masukan Celcius 20\n",
      "Maka nilainya Fahrenheit adalah  68.0\n",
      "Maka nilainya Reamur adalah  20.8\n"
     ]
    }
   ],
   "source": [
    "#No 1\n",
    "\n",
    "#FAHRENHEIT\n",
    "c = float(input(\"Masukan Celcius \"))\n",
    "f = 9/5 * c + 32\n",
    "print(\"Maka nilainya Fahrenheit adalah \", f)\n",
    "#REAMUR\n",
    "r = 4/5 + c\n",
    "print(\"Maka nilainya Reamur adalah \", r)"
   ]
  },
  {
   "cell_type": "code",
   "execution_count": 2,
   "metadata": {},
   "outputs": [
    {
     "name": "stdout",
     "output_type": "stream",
     "text": [
      "Berhasil terhubung ke database\n"
     ]
    }
   ],
   "source": [
    "#CONNECT DATABASE\n",
    "\n",
    "import mysql.connector\n",
    "\n",
    "db = mysql.connector.connect(\n",
    "    host=\"localhost\",\n",
    "    user=\"root\",\n",
    "    passwd=\"\"\n",
    ")\n",
    "\n",
    "if db.is_connected():\n",
    "    print(\"Berhasil terhubung ke database\")"
   ]
  },
  {
   "cell_type": "code",
   "execution_count": 4,
   "metadata": {},
   "outputs": [
    {
     "name": "stdout",
     "output_type": "stream",
     "text": [
      "Database berhasil dibuat!\n"
     ]
    }
   ],
   "source": [
    "#No 2\n",
    "\n",
    "import mysql.connector\n",
    "\n",
    "db = mysql.connector.connect(\n",
    "    host=\"localhost\",\n",
    "    user=\"root\",\n",
    "    passwd=\"\"\n",
    ")\n",
    "\n",
    "cursor = db.cursor()\n",
    "cursor.execute(\"CREATE DATABASE db_Film\")\n",
    "\n",
    "print(\"Database berhasil dibuat!\")"
   ]
  },
  {
   "cell_type": "code",
   "execution_count": 5,
   "metadata": {},
   "outputs": [
    {
     "name": "stdout",
     "output_type": "stream",
     "text": [
      "Tabel Film berhasil dibuat\n"
     ]
    }
   ],
   "source": [
    "#No 3\n",
    "\n",
    "import mysql.connector\n",
    "\n",
    "db = mysql.connector.connect(\n",
    "    host=\"localhost\",\n",
    "    user=\"root\",\n",
    "    passwd=\"\",\n",
    "    database=\"db_Film\"\n",
    ")\n",
    "\n",
    "cursor = db.cursor()\n",
    "sql = \"\"\"CREATE TABLE tblFilm (\n",
    "    Kode_id INT AUTO_INCREMENT PRIMARY KEY,\n",
    "    Judul_Film VARCHAR(255),\n",
    "    Jenis_Film VARCHAR(255),\n",
    "    Deskripsi_Film VARCHAR(255)\n",
    ")\n",
    "\"\"\"\n",
    "cursor.execute(sql)\n",
    "\n",
    "print(\"Tabel Film berhasil dibuat\")"
   ]
  },
  {
   "cell_type": "code",
   "execution_count": null,
   "metadata": {},
   "outputs": [
    {
     "name": "stdout",
     "output_type": "stream",
     "text": [
      "=== APLIKASI FILM NORFIAN ===\n",
      "1. Insert Data\n",
      "2. Show Data\n",
      "3. Update Data\n",
      "4. Delete Data\n",
      "5. Search Data\n",
      "0. Exit\n",
      "-----------------\n",
      "Pilih menu>2\n",
      "=== APLIKASI FILM NORFIAN ===\n",
      "1. Insert Data\n",
      "2. Show Data\n",
      "3. Update Data\n",
      "4. Delete Data\n",
      "5. Search Data\n",
      "0. Exit\n",
      "-----------------\n",
      "Pilih menu>1\n",
      "Masukan judul: Kungfu Hustle\n",
      "Masukan genre: Comedy\n",
      "Masukan deskripsi: Kungfu\n",
      "1 data berhasil disimpan\n",
      "=== APLIKASI FILM NORFIAN ===\n",
      "1. Insert Data\n",
      "2. Show Data\n",
      "3. Update Data\n",
      "4. Delete Data\n",
      "5. Search Data\n",
      "0. Exit\n",
      "-----------------\n",
      "Pilih menu>2\n",
      "(1, 'Kungfu Hustle', 'Comedy', 'Kungfu')\n",
      "=== APLIKASI FILM NORFIAN ===\n",
      "1. Insert Data\n",
      "2. Show Data\n",
      "3. Update Data\n",
      "4. Delete Data\n",
      "5. Search Data\n",
      "0. Exit\n",
      "-----------------\n"
     ]
    }
   ],
   "source": [
    "#No 4\n",
    "\n",
    "\n",
    "import mysql.connector\n",
    "import os\n",
    "\n",
    "db = mysql.connector.connect(\n",
    "    host=\"localhost\",\n",
    "    user=\"root\",\n",
    "    passwd=\"\",\n",
    "    database=\"db_Film\"\n",
    ")\n",
    "\n",
    "def insert_data(db):\n",
    "    Judul_Film = input(\"Masukan judul: \")\n",
    "    Jenis_Film = input(\"Masukan genre: \")\n",
    "    Deskripsi_Film = input(\"Masukan deskripsi: \")\n",
    "    val = (Judul_Film, Jenis_Film, Deskripsi_Film)\n",
    "    cursor = db.cursor()\n",
    "    sql = \"INSERT INTO tblFilm (Judul_Film, Jenis_Film, Deskripsi_Film) VALUES (%s, %s, %s)\"\n",
    "    cursor.execute(sql, val)\n",
    "    db.commit()\n",
    "    print(\"{} data berhasil disimpan\".format(cursor.rowcount))\n",
    "    \n",
    "def show_data(db):\n",
    "    cursor = db.cursor()\n",
    "    sql = \"SELECT * FROM tblFilm\"\n",
    "    cursor.execute(sql)\n",
    "    results = cursor.fetchall()\n",
    "    \n",
    "    if cursor.rowcount < 0:\n",
    "        print(\"Tidak ada data\")\n",
    "    else:\n",
    "        for data in results:\n",
    "            print(data)\n",
    "            \n",
    "def update_data(db):\n",
    "    cursor = db.cursor()\n",
    "    show_data(db)\n",
    "    Kode_id = input(\"pilih id film> \")\n",
    "    Judul_Film = input(\"Judul baru: \")\n",
    "    Jenis_Film = input(\"Genre baru: \")\n",
    "    Deskripsi_Film = input(\"Deskripsi baru: \")\n",
    "\n",
    "    sql = \"UPDATE tblFilm SET Judul_Film=%s, Jenis_Film=%s, Deskripsi_Film=%s WHERE Kode_id=%s\"\n",
    "    val = (Judul_Film, Jenis_Film, Deskripsi_Film)\n",
    "    cursor.execute(sql, val)\n",
    "    db.commit()\n",
    "    print(\"{} data berhasil diubah\".format(cursor.rowcount))\n",
    "    \n",
    "\n",
    "def delete_data(db):\n",
    "    cursor = db.cursor()\n",
    "    show_data(db)\n",
    "    Kode_id = input(\"pilih kode id> \")\n",
    "    sql = \"DELETE FROM tblFilm WHERE Kode_id=%s\"\n",
    "    val = (Kode_id, )\n",
    "    cursor.execute(sql, val)\n",
    "    db.commit()\n",
    "    print(\"{} data dihapus\".format(cursor.rowcount))\n",
    "\n",
    "def search_data(db):\n",
    "    cursor = db.cursor()\n",
    "    keyword = input(\"Kata kunci: \")\n",
    "    sql = \"SELECT * FROM tblFilm WHERE Judul_Film LIKE %s OR Jenis_Film LIKE %s OR Deskripsi_Film LIKE %s\"\n",
    "    val = (\"%{}%\".format(keyword), \"%{}%\".format(keyword), \"%{}%\".format(keyword))\n",
    "    cursor.execute(sql, val)\n",
    "    results = cursor.fetchall()\n",
    "    \n",
    "    if cursor.rowcount < 0:\n",
    "        print(\"Tidak ada data\")\n",
    "    else:\n",
    "        for data in results:\n",
    "            print(data)\n",
    "    \n",
    "def show_menu(db):\n",
    "    print(\"=== APLIKASI FILM NORFIAN ===\")\n",
    "    print(\"1. Insert Data\")\n",
    "    print(\"2. Show Data\")\n",
    "    print(\"3. Update Data\")\n",
    "    print(\"4. Delete Data\")\n",
    "    print(\"5. Search Data\")\n",
    "    print(\"0. Exit\")\n",
    "    print(\"-----------------\")\n",
    "    menu = input(\"Pilih menu>\")\n",
    "    \n",
    "#CLEAR SCREEN\n",
    "    os.system(\"clear\")\n",
    "    \n",
    "    if menu == \"1\":\n",
    "        insert_data(db)\n",
    "    elif menu == \"2\":\n",
    "        show_data(db)\n",
    "    elif menu == \"3\":\n",
    "        update_data(db)\n",
    "    elif menu == \"4\":\n",
    "        delete_data(db)\n",
    "    elif menu == \"5\":\n",
    "        search_data(db)\n",
    "    elif menu == \"0\":\n",
    "        exit()\n",
    "    else:\n",
    "        print(\"Menu ada yang salah!\")\n",
    "\n",
    "if __name__== \"__main__\":\n",
    "    while(True):\n",
    "        show_menu(db)"
   ]
  },
  {
   "cell_type": "code",
   "execution_count": null,
   "metadata": {},
   "outputs": [],
   "source": []
  }
 ],
 "metadata": {
  "kernelspec": {
   "display_name": "Python 3",
   "language": "python",
   "name": "python3"
  },
  "language_info": {
   "codemirror_mode": {
    "name": "ipython",
    "version": 3
   },
   "file_extension": ".py",
   "mimetype": "text/x-python",
   "name": "python",
   "nbconvert_exporter": "python",
   "pygments_lexer": "ipython3",
   "version": "3.8.5"
  }
 },
 "nbformat": 4,
 "nbformat_minor": 4
}
